{
 "cells": [
  {
   "cell_type": "code",
   "execution_count": 6,
   "metadata": {},
   "outputs": [
    {
     "data": {
      "text/plain": [
       "True"
      ]
     },
     "execution_count": 6,
     "metadata": {},
     "output_type": "execute_result"
    }
   ],
   "source": [
    "from dotenv import load_dotenv\n",
    "load_dotenv()"
   ]
  },
  {
   "cell_type": "code",
   "execution_count": 7,
   "metadata": {},
   "outputs": [],
   "source": [
    "import os\n",
    "groq_api_key = os.getenv(\"GROQ_API_KEY\")"
   ]
  },
  {
   "cell_type": "code",
   "execution_count": 8,
   "metadata": {},
   "outputs": [],
   "source": [
    "from langchain_groq import ChatGroq\n",
    "\n",
    "llm = ChatGroq(\n",
    "    temperature=0,\n",
    "    groq_api_key = groq_api_key,\n",
    "    model_name = \"llama-3.3-70b-versatile\" \n",
    ")"
   ]
  },
  {
   "cell_type": "code",
   "execution_count": 9,
   "metadata": {},
   "outputs": [],
   "source": [
    "response = llm.invoke(\"Explain A Minor Scale\")"
   ]
  },
  {
   "cell_type": "code",
   "execution_count": 10,
   "metadata": {},
   "outputs": [
    {
     "name": "stdout",
     "output_type": "stream",
     "text": [
      "The A minor scale is a musical scale that consists of seven notes, with A as the tonic note. It is a natural minor scale, also known as the Aeolian mode. The A minor scale is often used in music to create a somber, melancholic, or introspective mood.\n",
      "\n",
      "Here are the notes of the A minor scale:\n",
      "\n",
      "A, B, C, D, E, F, G\n",
      "\n",
      "To construct the A minor scale, you can use the following formula:\n",
      "\n",
      "1. Start with the tonic note A\n",
      "2. Move up a whole step (2 semitones) to B\n",
      "3. Move up a whole step (2 semitones) to C\n",
      "4. Move up a whole step (2 semitones) to D\n",
      "5. Move up a whole step (2 semitones) to E\n",
      "6. Move up a half step (1 semitone) to F\n",
      "7. Move up a whole step (2 semitones) to G\n",
      "\n",
      "The A minor scale has a distinct sound and is often used in various genres of music, including classical, jazz, and popular music. It's also commonly used in improvisation and composition.\n",
      "\n",
      "Some key characteristics of the A minor scale include:\n",
      "\n",
      "* The interval pattern: W-W-H-W-W-W-H (whole-whole-half-whole-whole-whole-half)\n",
      "* The relative major: C major (the C major scale has the same key signature as the A minor scale)\n",
      "* The parallel major: A major (the A major scale has a different key signature than the A minor scale)\n",
      "\n",
      "Understanding the A minor scale can help you to better appreciate music and to create your own music using this scale.\n"
     ]
    }
   ],
   "source": [
    "print(response.content)"
   ]
  }
 ],
 "metadata": {
  "kernelspec": {
   "display_name": "email_env",
   "language": "python",
   "name": "python3"
  },
  "language_info": {
   "codemirror_mode": {
    "name": "ipython",
    "version": 3
   },
   "file_extension": ".py",
   "mimetype": "text/x-python",
   "name": "python",
   "nbconvert_exporter": "python",
   "pygments_lexer": "ipython3",
   "version": "3.11.3"
  }
 },
 "nbformat": 4,
 "nbformat_minor": 2
}
