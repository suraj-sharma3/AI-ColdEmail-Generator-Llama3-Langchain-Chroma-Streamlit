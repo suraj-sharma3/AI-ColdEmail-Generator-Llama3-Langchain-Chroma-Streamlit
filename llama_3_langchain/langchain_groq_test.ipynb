{
 "cells": [
  {
   "cell_type": "code",
   "execution_count": 1,
   "metadata": {},
   "outputs": [],
   "source": [
    "from langchain_groq import ChatGroq\n",
    "\n",
    "llm = ChatGroq(\n",
    "    temperature=0,\n",
    "    groq_api_key = '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',\n",
    "    model_name = \"llama3-groq-70b-8192-tool-use-preview\" \n",
    ")"
   ]
  },
  {
   "cell_type": "code",
   "execution_count": 2,
   "metadata": {},
   "outputs": [],
   "source": [
    "response = llm.invoke(\"Explain E Minor Scale\")"
   ]
  },
  {
   "cell_type": "code",
   "execution_count": 4,
   "metadata": {},
   "outputs": [
    {
     "name": "stdout",
     "output_type": "stream",
     "text": [
      "The E minor scale is a musical scale that consists of the following notes: E, F#, G, A, B, C, D, E. It is a minor scale, which means it has a specific pattern of whole and half steps between the notes. The E minor scale is often used in music to create a somber or melancholic mood.\n"
     ]
    }
   ],
   "source": [
    "print(response.content)"
   ]
  },
  {
   "cell_type": "code",
   "execution_count": 5,
   "metadata": {},
   "outputs": [],
   "source": [
    "from langchain_groq import ChatGroq\n",
    "\n",
    "llm = ChatGroq(\n",
    "    temperature=0,\n",
    "    groq_api_key = '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',\n",
    "    model_name = \"llama-3.1-70b-versatile\" \n",
    ")"
   ]
  },
  {
   "cell_type": "code",
   "execution_count": 6,
   "metadata": {},
   "outputs": [],
   "source": [
    "response = llm.invoke(\"Explain how to tune a guitar\")"
   ]
  },
  {
   "cell_type": "code",
   "execution_count": 8,
   "metadata": {},
   "outputs": [
    {
     "name": "stdout",
     "output_type": "stream",
     "text": [
      "Tuning a guitar can seem intimidating at first, but with practice, you'll become more comfortable and confident. Here's a step-by-step guide on how to tune a guitar:\n",
      "\n",
      "**Standard Tuning:**\n",
      "The most common tuning for a guitar is standard tuning, which is EADGBE (low to high). This means that the strings are tuned to the following notes:\n",
      "\n",
      "* Low E (thickest string)\n",
      "* A\n",
      "* D\n",
      "* G\n",
      "* B\n",
      "* High E (thinnest string)\n",
      "\n",
      "**Tuning Methods:**\n",
      "There are several ways to tune a guitar, including:\n",
      "\n",
      "1. **Using a Tuner:** A guitar tuner is a device that helps you tune your guitar by detecting the pitch of the strings. There are various types of tuners, including clip-on tuners, pedal tuners, and smartphone apps.\n",
      "2. **Tuning by Ear:** This method involves tuning your guitar by ear, using a reference pitch (such as a piano or another instrument) to help you tune.\n",
      "3. **Using a Tuning App:** There are many smartphone apps available that can help you tune your guitar, such as GuitarTuna, Fender Play, and Yousician.\n",
      "\n",
      "**Step-by-Step Tuning Process:**\n",
      "\n",
      "1. **Choose a Tuning Method:** Decide which tuning method you want to use. If you're a beginner, using a tuner or a tuning app is recommended.\n",
      "2. **Pluck the Low E String:** Pluck the low E string (thickest string) to produce a sound.\n",
      "3. **Adjust the String:** If you're using a tuner, clip it onto the headstock of your guitar and turn the tuning pegs until the needle on the tuner points to the correct pitch (E). If you're tuning by ear, adjust the string until it sounds like the reference pitch.\n",
      "4. **Repeat the Process:** Repeat steps 2-3 for each string, moving up the neck of the guitar. Make sure to tune each string to the correct pitch (A, D, G, B, high E).\n",
      "5. **Double-Check:** Once you've tuned all the strings, play a chord or a scale to ensure that the guitar sounds in tune.\n",
      "\n",
      "**Tips and Tricks:**\n",
      "\n",
      "* **Use a Metronome:** A metronome can help you develop a good sense of pitch and timing.\n",
      "* **Tune in a Quiet Room:** Tuning in a quiet room can help you hear the strings more clearly.\n",
      "* **Use a Tuning Peg Wrench:** A tuning peg wrench can help you turn the tuning pegs more easily.\n",
      "* **Tune Regularly:** Tuning your guitar regularly can help you develop your ear and improve your playing.\n",
      "\n",
      "Remember, tuning a guitar takes practice, so don't get discouraged if it takes a few tries to get it right. With time and patience, you'll become more comfortable and confident in your ability to tune your guitar.\n"
     ]
    }
   ],
   "source": [
    "print(response.content)"
   ]
  },
  {
   "cell_type": "code",
   "execution_count": null,
   "metadata": {},
   "outputs": [],
   "source": []
  }
 ],
 "metadata": {
  "kernelspec": {
   "display_name": "Python 3",
   "language": "python",
   "name": "python3"
  },
  "language_info": {
   "codemirror_mode": {
    "name": "ipython",
    "version": 3
   },
   "file_extension": ".py",
   "mimetype": "text/x-python",
   "name": "python",
   "nbconvert_exporter": "python",
   "pygments_lexer": "ipython3",
   "version": "3.11.3"
  }
 },
 "nbformat": 4,
 "nbformat_minor": 2
}
