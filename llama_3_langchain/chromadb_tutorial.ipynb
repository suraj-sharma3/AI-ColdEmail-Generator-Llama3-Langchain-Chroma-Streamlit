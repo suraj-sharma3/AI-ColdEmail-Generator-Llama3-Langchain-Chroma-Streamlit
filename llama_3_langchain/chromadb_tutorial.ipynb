{
 "cells": [
  {
   "cell_type": "markdown",
   "metadata": {},
   "source": [
    "### Vector Database"
   ]
  },
  {
   "cell_type": "code",
   "execution_count": 2,
   "metadata": {},
   "outputs": [],
   "source": [
    "import chromadb\n",
    "\n",
    "client = chromadb.Client()\n",
    "\n",
    "collection = client.create_collection(name=\"my_first_chromadb_database\")"
   ]
  },
  {
   "cell_type": "code",
   "execution_count": 3,
   "metadata": {},
   "outputs": [],
   "source": [
    "collection.add(\n",
    "    documents = ['I want to learn music','I want to tune musical instruments'],\n",
    "    ids = ['id1', 'id2']\n",
    ")"
   ]
  },
  {
   "cell_type": "code",
   "execution_count": 4,
   "metadata": {},
   "outputs": [
    {
     "data": {
      "text/plain": [
       "{'ids': ['id1', 'id2'],\n",
       " 'embeddings': None,\n",
       " 'documents': ['I want to learn music', 'I want to tune musical instruments'],\n",
       " 'uris': None,\n",
       " 'data': None,\n",
       " 'metadatas': [None, None],\n",
       " 'included': [<IncludeEnum.documents: 'documents'>,\n",
       "  <IncludeEnum.metadatas: 'metadatas'>]}"
      ]
     },
     "execution_count": 4,
     "metadata": {},
     "output_type": "execute_result"
    }
   ],
   "source": [
    "all_docs = collection.get()\n",
    "all_docs"
   ]
  },
  {
   "cell_type": "code",
   "execution_count": 5,
   "metadata": {},
   "outputs": [
    {
     "data": {
      "text/plain": [
       "{'ids': ['id1'],\n",
       " 'embeddings': None,\n",
       " 'documents': ['I want to learn music'],\n",
       " 'uris': None,\n",
       " 'data': None,\n",
       " 'metadatas': [None],\n",
       " 'included': [<IncludeEnum.documents: 'documents'>,\n",
       "  <IncludeEnum.metadatas: 'metadatas'>]}"
      ]
     },
     "execution_count": 5,
     "metadata": {},
     "output_type": "execute_result"
    }
   ],
   "source": [
    "doc1 = collection.get(ids = ['id1'])\n",
    "doc1"
   ]
  },
  {
   "cell_type": "code",
   "execution_count": 6,
   "metadata": {},
   "outputs": [],
   "source": [
    "results = collection.query(query_texts=['I want to play guitar'],\n",
    "                           n_results=2)"
   ]
  },
  {
   "cell_type": "code",
   "execution_count": 7,
   "metadata": {},
   "outputs": [
    {
     "data": {
      "text/plain": [
       "{'ids': [['id2', 'id1']],\n",
       " 'embeddings': None,\n",
       " 'documents': [['I want to tune musical instruments',\n",
       "   'I want to learn music']],\n",
       " 'uris': None,\n",
       " 'data': None,\n",
       " 'metadatas': [[None, None]],\n",
       " 'distances': [[0.8250418305397034, 0.8434193134307861]],\n",
       " 'included': [<IncludeEnum.distances: 'distances'>,\n",
       "  <IncludeEnum.documents: 'documents'>,\n",
       "  <IncludeEnum.metadatas: 'metadatas'>]}"
      ]
     },
     "execution_count": 7,
     "metadata": {},
     "output_type": "execute_result"
    }
   ],
   "source": [
    "results"
   ]
  },
  {
   "cell_type": "markdown",
   "metadata": {},
   "source": [
    "### The first result for the guitar query is 'I want to tune musical instruments' because musical instruments is more related to guitar than music. The distances are euclidean distances between the query and the documents in the collection (vector database), less distance means close relation and more distance means distant relation."
   ]
  },
  {
   "cell_type": "markdown",
   "metadata": {},
   "source": [
    "### The advantage of using a vector database (chromadb) is that it is capable of semantic search\n",
    "\n",
    "### Semantic search is an advanced search technique that aims to improve search accuracy by understanding the meaning and context of words rather than just matching keywords. Unlike traditional keyword-based search, which relies on exact word matches, semantic search interprets the intent behind a query and retrieves results that are conceptually relevant, even if they don’t contain the exact search terms.\n",
    "\n",
    "### How Semantic Search Works\n",
    "- Natural Language Processing (NLP) – It processes the query to understand the context, synonyms, and user intent.\n",
    "Word Embeddings & Vector Representations – Instead of relying on raw text, semantic search converts words and sentences into numerical vectors using techniques like Word2Vec, BERT, or Sentence Transformers.\n",
    "- Context Awareness – It considers relationships between words. For example, in a search for \"best budget gaming laptop,\" it understands the need for affordability and gaming performance.\n",
    "- Entity Recognition – Identifies key entities like people, locations, products, and events.\n",
    "- User Behavior & Personalization – Some semantic search engines use previous interactions to refine results based on user preferences.\n",
    "\n",
    "### Example:\n",
    "- Keyword Search: If you search for \"Apple,\" a traditional search might return results about the fruit instead of the company.\n",
    "- Semantic Search: It understands context and intent—if you were previously searching for iPhones, it might prioritize results about Apple Inc."
   ]
  },
  {
   "cell_type": "markdown",
   "metadata": {},
   "source": [
    "###"
   ]
  },
  {
   "cell_type": "code",
   "execution_count": 8,
   "metadata": {},
   "outputs": [],
   "source": [
    "results = collection.query(query_texts=['I want to play guitar', 'I want to sing'],\n",
    "                           n_results=2)"
   ]
  },
  {
   "cell_type": "code",
   "execution_count": 9,
   "metadata": {},
   "outputs": [
    {
     "data": {
      "text/plain": [
       "{'ids': [['id2', 'id1'], ['id1', 'id2']],\n",
       " 'embeddings': None,\n",
       " 'documents': [['I want to tune musical instruments', 'I want to learn music'],\n",
       "  ['I want to learn music', 'I want to tune musical instruments']],\n",
       " 'uris': None,\n",
       " 'data': None,\n",
       " 'metadatas': [[None, None], [None, None]],\n",
       " 'distances': [[0.8250418305397034, 0.8434193134307861],\n",
       "  [0.9237728118896484, 1.153193473815918]],\n",
       " 'included': [<IncludeEnum.distances: 'distances'>,\n",
       "  <IncludeEnum.documents: 'documents'>,\n",
       "  <IncludeEnum.metadatas: 'metadatas'>]}"
      ]
     },
     "execution_count": 9,
     "metadata": {},
     "output_type": "execute_result"
    }
   ],
   "source": [
    "results"
   ]
  },
  {
   "cell_type": "markdown",
   "metadata": {},
   "source": [
    "### The first result for the sing query is 'I want to learn music' because music is more related to sing than musical instruments. The distances are euclidean distances between the query and the documents in the collection (vector database), less distance means close relation and more distance means distant relation."
   ]
  },
  {
   "cell_type": "code",
   "execution_count": 10,
   "metadata": {},
   "outputs": [],
   "source": [
    "collection_food = client.create_collection(\"my_food_collection\")"
   ]
  },
  {
   "cell_type": "code",
   "execution_count": 11,
   "metadata": {},
   "outputs": [],
   "source": [
    "collection_food.add(documents=[\"Dosa\", \"Frankie\", \"Pizza\", \"Burger\", \"Samosa\", \"Aloo Paratha\"], \n",
    "                    ids=['id1', 'id2', \"id3\", 'id4', \"id5\", \"id6\"])"
   ]
  },
  {
   "cell_type": "code",
   "execution_count": 12,
   "metadata": {},
   "outputs": [],
   "source": [
    "food_results = collection_food.query(query_texts=[\"I am an Indian\"], n_results=6)"
   ]
  },
  {
   "cell_type": "code",
   "execution_count": 13,
   "metadata": {},
   "outputs": [
    {
     "data": {
      "text/plain": [
       "{'ids': [['id6', 'id5', 'id1', 'id4', 'id3', 'id2']],\n",
       " 'embeddings': None,\n",
       " 'documents': [['Aloo Paratha',\n",
       "   'Samosa',\n",
       "   'Dosa',\n",
       "   'Burger',\n",
       "   'Pizza',\n",
       "   'Frankie']],\n",
       " 'uris': None,\n",
       " 'data': None,\n",
       " 'metadatas': [[None, None, None, None, None, None]],\n",
       " 'distances': [[1.4621524810791016,\n",
       "   1.5920627117156982,\n",
       "   1.627532958984375,\n",
       "   1.7630388736724854,\n",
       "   1.793413519859314,\n",
       "   1.9457755088806152]],\n",
       " 'included': [<IncludeEnum.distances: 'distances'>,\n",
       "  <IncludeEnum.documents: 'documents'>,\n",
       "  <IncludeEnum.metadatas: 'metadatas'>]}"
      ]
     },
     "execution_count": 13,
     "metadata": {},
     "output_type": "execute_result"
    }
   ],
   "source": [
    "food_results"
   ]
  },
  {
   "cell_type": "code",
   "execution_count": 14,
   "metadata": {},
   "outputs": [],
   "source": [
    "food_results = collection_food.query(query_texts=[\"I'm an American\"], n_results=4)"
   ]
  },
  {
   "cell_type": "code",
   "execution_count": 15,
   "metadata": {},
   "outputs": [
    {
     "data": {
      "text/plain": [
       "{'ids': [['id3', 'id4', 'id6', 'id2']],\n",
       " 'embeddings': None,\n",
       " 'documents': [['Pizza', 'Burger', 'Aloo Paratha', 'Frankie']],\n",
       " 'uris': None,\n",
       " 'data': None,\n",
       " 'metadatas': [[None, None, None, None]],\n",
       " 'distances': [[1.668642520904541,\n",
       "   1.7323994636535645,\n",
       "   1.7357228994369507,\n",
       "   1.8269104957580566]],\n",
       " 'included': [<IncludeEnum.distances: 'distances'>,\n",
       "  <IncludeEnum.documents: 'documents'>,\n",
       "  <IncludeEnum.metadatas: 'metadatas'>]}"
      ]
     },
     "execution_count": 15,
     "metadata": {},
     "output_type": "execute_result"
    }
   ],
   "source": [
    "food_results"
   ]
  },
  {
   "cell_type": "markdown",
   "metadata": {},
   "source": [
    "### Deleting a collection"
   ]
  },
  {
   "cell_type": "code",
   "execution_count": 16,
   "metadata": {},
   "outputs": [],
   "source": [
    "collection_food.delete(ids=all_docs['ids'])"
   ]
  },
  {
   "cell_type": "code",
   "execution_count": 17,
   "metadata": {},
   "outputs": [
    {
     "data": {
      "text/plain": [
       "{'ids': ['id3', 'id4', 'id5', 'id6'],\n",
       " 'embeddings': None,\n",
       " 'documents': ['Pizza', 'Burger', 'Samosa', 'Aloo Paratha'],\n",
       " 'uris': None,\n",
       " 'data': None,\n",
       " 'metadatas': [None, None, None, None],\n",
       " 'included': [<IncludeEnum.documents: 'documents'>,\n",
       "  <IncludeEnum.metadatas: 'metadatas'>]}"
      ]
     },
     "execution_count": 17,
     "metadata": {},
     "output_type": "execute_result"
    }
   ],
   "source": [
    "collection_food.get()"
   ]
  },
  {
   "cell_type": "code",
   "execution_count": 19,
   "metadata": {},
   "outputs": [
    {
     "name": "stderr",
     "output_type": "stream",
     "text": [
      "Delete of nonexisting embedding ID: I want to learn music\n",
      "Delete of nonexisting embedding ID: I want to tune musical instruments\n",
      "Delete of nonexisting embedding ID: I want to learn music\n",
      "Delete of nonexisting embedding ID: I want to tune musical instruments\n"
     ]
    }
   ],
   "source": [
    "collection_food.delete(ids=all_docs['documents'])"
   ]
  },
  {
   "cell_type": "code",
   "execution_count": 20,
   "metadata": {},
   "outputs": [
    {
     "data": {
      "text/plain": [
       "Collection(name=my_food_collection)"
      ]
     },
     "execution_count": 20,
     "metadata": {},
     "output_type": "execute_result"
    }
   ],
   "source": [
    "collection_food"
   ]
  },
  {
   "cell_type": "markdown",
   "metadata": {},
   "source": [
    "### Adding Metadata for the documents"
   ]
  },
  {
   "cell_type": "code",
   "execution_count": 21,
   "metadata": {},
   "outputs": [
    {
     "name": "stderr",
     "output_type": "stream",
     "text": [
      "Add of existing embedding ID: id3\n",
      "Insert of existing embedding ID: id3\n"
     ]
    }
   ],
   "source": [
    "collection_food.add(documents=[\"My friend lives in UK and likes to eat Pizza\", \"I live in Mumbai and I like Samosa\", \"I like to eat dosa\"], \n",
    "                    ids=['id1', 'id2', \"id3\"],\n",
    "                    metadatas=[\n",
    "                        {\"url\" : \"https://en.wikipedia.org/wiki/United_Kingdom\"},\n",
    "                        {\"url\" : \"https://en.wikipedia.org/wiki/India\"},\n",
    "                        {\"url\" : \"https://en.wikipedia.org/wiki/South_India\"}\n",
    "                    ])"
   ]
  },
  {
   "cell_type": "code",
   "execution_count": 22,
   "metadata": {},
   "outputs": [
    {
     "data": {
      "text/plain": [
       "{'ids': ['id3', 'id4', 'id5', 'id6', 'id1', 'id2'],\n",
       " 'embeddings': None,\n",
       " 'documents': ['Pizza',\n",
       "  'Burger',\n",
       "  'Samosa',\n",
       "  'Aloo Paratha',\n",
       "  'My friend lives in UK and likes to eat Pizza',\n",
       "  'I live in Mumbai and I like Samosa'],\n",
       " 'uris': None,\n",
       " 'data': None,\n",
       " 'metadatas': [None,\n",
       "  None,\n",
       "  None,\n",
       "  None,\n",
       "  {'url': 'https://en.wikipedia.org/wiki/United_Kingdom'},\n",
       "  {'url': 'https://en.wikipedia.org/wiki/India'}],\n",
       " 'included': [<IncludeEnum.documents: 'documents'>,\n",
       "  <IncludeEnum.metadatas: 'metadatas'>]}"
      ]
     },
     "execution_count": 22,
     "metadata": {},
     "output_type": "execute_result"
    }
   ],
   "source": [
    "collection_food.get()"
   ]
  },
  {
   "cell_type": "code",
   "execution_count": 24,
   "metadata": {},
   "outputs": [
    {
     "data": {
      "text/plain": [
       "{'ids': ['id3', 'id4', 'id5', 'id6', 'id1', 'id2'],\n",
       " 'embeddings': None,\n",
       " 'documents': ['Pizza',\n",
       "  'Burger',\n",
       "  'Samosa',\n",
       "  'Aloo Paratha',\n",
       "  'My friend lives in UK and likes to eat Pizza',\n",
       "  'I live in Mumbai and I like Samosa'],\n",
       " 'uris': None,\n",
       " 'data': None,\n",
       " 'metadatas': [None,\n",
       "  None,\n",
       "  None,\n",
       "  None,\n",
       "  {'url': 'https://en.wikipedia.org/wiki/United_Kingdom'},\n",
       "  {'url': 'https://en.wikipedia.org/wiki/India'}],\n",
       " 'included': [<IncludeEnum.documents: 'documents'>,\n",
       "  <IncludeEnum.metadatas: 'metadatas'>]}"
      ]
     },
     "execution_count": 24,
     "metadata": {},
     "output_type": "execute_result"
    }
   ],
   "source": [
    "collection_food.get()"
   ]
  },
  {
   "cell_type": "code",
   "execution_count": 25,
   "metadata": {},
   "outputs": [],
   "source": [
    "results = collection_food.query(query_texts=[\"India\"], n_results=3)"
   ]
  },
  {
   "cell_type": "code",
   "execution_count": 26,
   "metadata": {},
   "outputs": [
    {
     "data": {
      "text/plain": [
       "{'ids': [['id2', 'id5', 'id6']],\n",
       " 'embeddings': None,\n",
       " 'documents': [['I live in Mumbai and I like Samosa',\n",
       "   'Samosa',\n",
       "   'Aloo Paratha']],\n",
       " 'uris': None,\n",
       " 'data': None,\n",
       " 'metadatas': [[{'url': 'https://en.wikipedia.org/wiki/India'}, None, None]],\n",
       " 'distances': [[1.30592942237854, 1.3957486152648926, 1.5312440395355225]],\n",
       " 'included': [<IncludeEnum.distances: 'distances'>,\n",
       "  <IncludeEnum.documents: 'documents'>,\n",
       "  <IncludeEnum.metadatas: 'metadatas'>]}"
      ]
     },
     "execution_count": 26,
     "metadata": {},
     "output_type": "execute_result"
    }
   ],
   "source": [
    "results"
   ]
  },
  {
   "cell_type": "code",
   "execution_count": null,
   "metadata": {},
   "outputs": [],
   "source": []
  }
 ],
 "metadata": {
  "kernelspec": {
   "display_name": "email_env",
   "language": "python",
   "name": "python3"
  },
  "language_info": {
   "codemirror_mode": {
    "name": "ipython",
    "version": 3
   },
   "file_extension": ".py",
   "mimetype": "text/x-python",
   "name": "python",
   "nbconvert_exporter": "python",
   "pygments_lexer": "ipython3",
   "version": "3.11.3"
  }
 },
 "nbformat": 4,
 "nbformat_minor": 2
}
